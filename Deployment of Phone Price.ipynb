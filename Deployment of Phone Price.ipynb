{
 "cells": [
  {
   "cell_type": "markdown",
   "id": "205b15ae-868a-429b-9adf-0334349ff4d2",
   "metadata": {},
   "source": [
    " Price_range: This is the target\n",
    " ○ 0=lowcost\n",
    " ○ 1=mediumcost\n",
    " ○ 2=highcost\n",
    " ○ 3=veryhigh cost"
   ]
  },
  {
   "cell_type": "code",
   "execution_count": 1,
   "id": "106b520f-3df0-428d-9a3d-fa33cce818c6",
   "metadata": {},
   "outputs": [],
   "source": [
    "import pickle"
   ]
  },
  {
   "cell_type": "code",
   "execution_count": 2,
   "id": "4df6941f-94ab-445a-a6d4-73a1b2d37354",
   "metadata": {},
   "outputs": [],
   "source": [
    "loaded_model=pickle.load(open(\"finalized_model_Phone_pricing.sav\",\"rb\"))\n"
   ]
  },
  {
   "cell_type": "code",
   "execution_count": 3,
   "id": "4ca28b71-66bd-4566-a569-bfd9935bdafb",
   "metadata": {},
   "outputs": [
    {
     "name": "stdin",
     "output_type": "stream",
     "text": [
      "Enter the battery power(in mAh): 1000\n",
      "Has Bluetooth or not (1/0): 0\n",
      "Processor speed (in GHz): 3.3\n",
      "Has dual sim support or not(1/0): 0\n",
      " Front camera megapixels: 1\n",
      "Has 4G? (1/0):  0\n",
      "Enter internal memory (in GB:  8\n",
      "Enter mobile depth (in cm):  0.7\n",
      "Enter mobile weight (in grams):  200\n",
      "Enter number of processor cores:  2\n",
      "Enter primary camera resolution (in MP):  2\n",
      "Enter pixel height:  20\n",
      "Enter pixel width:  800\n",
      "Enter RAM (in MB):  300\n",
      "Enter screen height (in cm):  10\n",
      "Enter screen width (in cm):  10\n",
      "Enter talk time (in hours):  20\n",
      "Has 3G? (1/0):  0\n",
      "Has touch screen? (1/0):  1\n",
      "Has WiFi? (1/0):  1\n"
     ]
    }
   ],
   "source": [
    "battery_power=int(input(\"Enter the battery power(in mAh):\"))\n",
    "blue=int(input(\"Has Bluetooth or not (1/0):\"))\n",
    "clock_speed=float(input(\"Processor speed (in GHz):\"))\n",
    "dual_sim=int(input(\"Has dual sim support or not(1/0):\"))\n",
    "fc=int(input(\" Front camera megapixels:\"))\n",
    "four_g=int(input(\"Has 4G? (1/0): \"))\n",
    "int_memory = int(input(\"Enter internal memory (in GB: \"))\n",
    "m_deep = float(input(\"Enter mobile depth (in cm): \"))\n",
    "mobile_wt = int(input(\"Enter mobile weight (in grams): \"))\n",
    "n_cores = int(input(\"Enter number of processor cores: \"))\n",
    "pc = int(input(\"Enter primary camera resolution (in MP): \"))\n",
    "px_height = int(input(\"Enter pixel height: \"))\n",
    "px_width = int(input(\"Enter pixel width: \"))\n",
    "ram = int(input(\"Enter RAM (in MB): \"))\n",
    "sc_h = int(input(\"Enter screen height (in cm): \"))\n",
    "sc_w = int(input(\"Enter screen width (in cm): \"))\n",
    "talk_time = int(input(\"Enter talk time (in hours): \"))\n",
    "three_g = int(input(\"Has 3G? (1/0): \"))\n",
    "touch_screen = int(input(\"Has touch screen? (1/0): \"))\n",
    "wifi = int(input(\"Has WiFi? (1/0): \"))"
   ]
  },
  {
   "cell_type": "code",
   "execution_count": 4,
   "id": "a5423ac7-2424-43a6-ac36-f637000b1208",
   "metadata": {},
   "outputs": [
    {
     "name": "stdout",
     "output_type": "stream",
     "text": [
      "Future_Prediction [[-0.76117659]]\n"
     ]
    },
    {
     "name": "stderr",
     "output_type": "stream",
     "text": [
      "C:\\Users\\anora\\Documents\\Anaconda\\Lib\\site-packages\\sklearn\\base.py:493: UserWarning: X does not have valid feature names, but LinearRegression was fitted with feature names\n",
      "  warnings.warn(\n"
     ]
    }
   ],
   "source": [
    "input_data = [[battery_power, blue, clock_speed, dual_sim, fc, four_g,\n",
    "  int_memory, m_deep, mobile_wt, n_cores, pc, px_height,\n",
    "  px_width, ram, sc_h, sc_w, talk_time, three_g,\n",
    "  touch_screen, wifi]]\n",
    "\n",
    "prediction=loaded_model.predict(input_data)\n",
    "print(\"Future_Prediction {}\".format(prediction))"
   ]
  },
  {
   "cell_type": "code",
   "execution_count": null,
   "id": "c5e8a197-a706-4f6d-bc80-6ee26297345a",
   "metadata": {},
   "outputs": [],
   "source": []
  }
 ],
 "metadata": {
  "kernelspec": {
   "display_name": "Python 3 (ipykernel)",
   "language": "python",
   "name": "python3"
  },
  "language_info": {
   "codemirror_mode": {
    "name": "ipython",
    "version": 3
   },
   "file_extension": ".py",
   "mimetype": "text/x-python",
   "name": "python",
   "nbconvert_exporter": "python",
   "pygments_lexer": "ipython3",
   "version": "3.12.7"
  }
 },
 "nbformat": 4,
 "nbformat_minor": 5
}
